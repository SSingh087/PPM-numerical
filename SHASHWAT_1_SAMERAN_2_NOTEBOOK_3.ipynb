{
 "cells": [
  {
   "cell_type": "markdown",
   "metadata": {},
   "source": [
    "#### Paris Physics Master Numerical Methods -- Exercises Lecture 4"
   ]
  },
  {
   "cell_type": "markdown",
   "metadata": {},
   "source": [
    "- Name: SHASHWAT SINGH\n",
    "- Name: SAMERAN BANERJEE"
   ]
  },
  {
   "cell_type": "markdown",
   "metadata": {},
   "source": [
    "Import modules and anything else you need"
   ]
  },
  {
   "cell_type": "code",
   "execution_count": 1,
   "metadata": {},
   "outputs": [],
   "source": [
    "import numpy as np\n",
    "import matplotlib.pyplot as plt"
   ]
  },
  {
   "cell_type": "markdown",
   "metadata": {},
   "source": [
    "## Deterministic methods of numerical integration"
   ]
  },
  {
   "cell_type": "markdown",
   "metadata": {},
   "source": [
    "### Simple qudrature rules"
   ]
  },
  {
   "cell_type": "markdown",
   "metadata": {},
   "source": [
    "In this exercise we are going to implement and investigate the errors of the integration rules seen in class.\n",
    "\n",
    "We will calculate the integral of the function:\n",
    "    $$ f(x) = x^2 \\exp{(-x^2)}   $$\n",
    "over the intervals $[0,1]$ and $[0,3]$\n",
    "\n",
    "In terms of the error function the integral above is given by:\n",
    "$$ \\int_0^x f(x')dx' = \\frac{1}{4} \\left(\\sqrt{\\pi } \\;\\text{erf}(x)-2 e^{-x^2} x\\right) $$\n",
    "  \n",
    "the numerical values of the integral for the two intervals are (as  calculated using `MATHEMATICA`)\n",
    "$$0.1894723458204922$$ and $$0.4429185594236305$$\n",
    "\n"
   ]
  },
  {
   "cell_type": "markdown",
   "metadata": {},
   "source": [
    "Let's begin by defining the function\n",
    "$$ f(x) = x^2 \\exp{(-x^2)}$$\n",
    "and a function to calculate the abolute error\n",
    "```python\n",
    "def abs_error(numerical_value, actual_value):\n",
    "    ...   \n",
    "    return ...\n",
    "```"
   ]
  },
  {
   "cell_type": "code",
   "execution_count": 7,
   "metadata": {},
   "outputs": [],
   "source": [
    "f = lambda x : x**2*np.exp(-x**2)\n",
    "\n",
    "def abs_error(numerical_value, actual_value):  \n",
    "    return abs(numerical_value - actual_value)"
   ]
  },
  {
   "cell_type": "markdown",
   "metadata": {},
   "source": [
    "Plot the function $f(x)$ over the interval $[0,4]$ and label the axes"
   ]
  },
  {
   "cell_type": "code",
   "execution_count": 3,
   "metadata": {},
   "outputs": [
    {
     "data": {
      "text/plain": [
       "Text(0, 0.5, '$f(x) = x^2 \\\\exp{(-x^2)}$')"
      ]
     },
     "execution_count": 3,
     "metadata": {},
     "output_type": "execute_result"
    },
    {
     "data": {
      "image/png": "[encoded data removed]",
      "text/plain": [
       "<Figure size 432x288 with 1 Axes>"
      ]
     },
     "metadata": {
      "needs_background": "light"
     },
     "output_type": "display_data"
    }
   ],
   "source": [
    "x = np.linspace(0,4,1000)\n",
    "plt.plot(x, f(x))\n",
    "plt.xlabel('x')\n",
    "plt.ylabel('$f(x) = x^2 \\exp{(-x^2)}$')"
   ]
  },
  {
   "cell_type": "markdown",
   "metadata": {},
   "source": [
    "Implement the left, right, mid-point, trapezoidal and Simpson's rules and test them on a simple, analytical integral"
   ]
  },
  {
   "cell_type": "code",
   "execution_count": 4,
   "metadata": {},
   "outputs": [],
   "source": [
    "x = np.linspace(0,3,1000)\n",
    "h = (x[-1] - x[0])/len(x)\n",
    "L = lambda x: h * np.sum(f(x[:-1]))\n",
    "R = lambda x: h * np.sum(f(x[1:]))\n",
    "M = lambda x: h * np.sum(f((x[:-1] + x[1:]) / 2))\n",
    "T = lambda x: h * ((f(x[0]) + f(x[-1])) / 2 + np.sum(f(x[1:-1])))\n",
    "S = lambda x: (2*M(x) + T(x)) / 3\n",
    "#(h / 3.) * (f(x[0]) + 4*f((x[0] + x[-1]) / 2) + f(x[-1]))"
   ]
  },
  {
   "cell_type": "code",
   "execution_count": 5,
   "metadata": {},
   "outputs": [
    {
     "data": {
      "text/plain": [
       "0.4424739703846662"
      ]
     },
     "execution_count": 5,
     "metadata": {},
     "output_type": "execute_result"
    }
   ],
   "source": [
    "L(x)"
   ]
  },
  {
   "cell_type": "code",
   "execution_count": 6,
   "metadata": {},
   "outputs": [
    {
     "data": {
      "text/plain": [
       "0.44247730244937655"
      ]
     },
     "execution_count": 6,
     "metadata": {},
     "output_type": "execute_result"
    }
   ],
   "source": [
    "R(x)"
   ]
  },
  {
   "cell_type": "code",
   "execution_count": 7,
   "metadata": {},
   "outputs": [
    {
     "data": {
      "text/plain": [
       "0.44247564308779436"
      ]
     },
     "execution_count": 7,
     "metadata": {},
     "output_type": "execute_result"
    }
   ],
   "source": [
    "M(x)"
   ]
  },
  {
   "cell_type": "code",
   "execution_count": 8,
   "metadata": {},
   "outputs": [
    {
     "data": {
      "text/plain": [
       "0.44247563641702137"
      ]
     },
     "execution_count": 8,
     "metadata": {},
     "output_type": "execute_result"
    }
   ],
   "source": [
    "T(x)"
   ]
  },
  {
   "cell_type": "code",
   "execution_count": 9,
   "metadata": {},
   "outputs": [
    {
     "data": {
      "text/plain": [
       "0.4424756408642034"
      ]
     },
     "execution_count": 9,
     "metadata": {},
     "output_type": "execute_result"
    }
   ],
   "source": [
    "S(x)"
   ]
  },
  {
   "cell_type": "markdown",
   "metadata": {},
   "source": [
    "For each of the five rules, calculate the integral of the function:\n",
    "    $$ f(x) = x^2 \\exp{(-x^2)}   $$\n",
    "over the interval $[0,1]$ and $[0,3]$ with 100 sub-intervals\n",
    "\n",
    "Calculate the absolute errors and comment the results"
   ]
  },
  {
   "cell_type": "code",
   "execution_count": 10,
   "metadata": {},
   "outputs": [
    {
     "name": "stdout",
     "output_type": "stream",
     "text": [
      "Errors for range [0,1]\n",
      " left:0.13375087827988255 \n",
      " right:0.13264723995636823 \n",
      " mid-point:0.13319905910627639 \n",
      " trapezoidal:0.1331990591181254 \n",
      " Simpson's rules:0.13319905911022606\n",
      "\n",
      "\n",
      "Errors for range [0,3]\n",
      " left:0.3990713329344041 \n",
      " right:0.3990680008696938 \n",
      " mid-point:0.3990695996156122 \n",
      " trapezoidal:0.399069666902049 \n",
      " Simpson's rules:0.3990696220444245\n"
     ]
    }
   ],
   "source": [
    "if __name__ == \"__main__\":\n",
    "    d1_abs = 0.1894723458204922\n",
    "    d2_abs = 0.4429185594236305\n",
    "    x1 = np.linspace(0,1,100)\n",
    "    x2 = np.linspace(0,3,100)\n",
    "\n",
    "    print(\"Errors for range [0,1]\\n left:{} \\n right:{} \\n mid-point:{} \\n trapezoidal:{} \\n \\\n",
    "Simpson's rules:{}\\n\\n\".format(\n",
    "        abs_error(d1_abs,L(x1)), \n",
    "        abs_error(d1_abs,R(x1)), \n",
    "        abs_error(d1_abs,M(x1)),\n",
    "        abs_error(d1_abs,T(x1)),\n",
    "        abs_error(d1_abs,S(x1))\n",
    "        ))\n",
    "    \n",
    "    print(\"Errors for range [0,3]\\n left:{} \\n right:{} \\n mid-point:{} \\n trapezoidal:{} \\n \\\n",
    "Simpson's rules:{}\".format(\n",
    "        abs_error(d2_abs,L(x2)), \n",
    "        abs_error(d2_abs,R(x2)), \n",
    "        abs_error(d2_abs,M(x2)),\n",
    "        abs_error(d2_abs,T(x2)),\n",
    "        abs_error(d2_abs,S(x2))\n",
    "        ))"
   ]
  },
  {
   "cell_type": "markdown",
   "metadata": {},
   "source": [
    "We are now going to focus on the integration interval $[0,3]$ and compare the absolute error of the 5 rules for an increasing number of sub-intervals $n$ (go up to $n=10000$).\n",
    "\n",
    "Plot your results (error versus number of sub-intervals) and comment."
   ]
  },
  {
   "cell_type": "code",
   "execution_count": 11,
   "metadata": {
    "scrolled": true
   },
   "outputs": [
    {
     "data": {
      "image/png": "[encoded data removed]",
      "text/plain": [
       "<Figure size 432x288 with 1 Axes>"
      ]
     },
     "metadata": {
      "needs_background": "light"
     },
     "output_type": "display_data"
    }
   ],
   "source": [
    "if __name__ == \"__main__\":\n",
    "    d2_abs = 0.4429185594236305\n",
    "    err_l, err_r, err_m, err_t,err_s = [], [], [], [], []\n",
    "    N = [1, 10, 100, 1000, 10000]\n",
    "    for n in N:\n",
    "        x = np.linspace(0,3,n)\n",
    "        err_l.append(abs_error(d2_abs,L(x)))\n",
    "        err_r.append(abs_error(d2_abs,R(x)))\n",
    "        err_m.append(abs_error(d2_abs,M(x)))\n",
    "        err_t.append(abs_error(d2_abs,T(x)))\n",
    "        err_s.append(abs_error(d2_abs,S(x)))\n",
    "\n",
    "    plt.loglog(N,err_l, marker='*', linewidth=0.0, label='left')\n",
    "    plt.loglog(N,err_r, marker='+', linewidth=0.0, label='right')\n",
    "    plt.loglog(N,err_m, marker='p', linewidth=0.0, label='middle')\n",
    "    plt.loglog(N,err_t, marker='P', linewidth=0.0, label='trapezoidal')\n",
    "    plt.loglog(N,err_s, marker='x', linewidth=0.0, label='simpson')\n",
    "    plt.legend()"
   ]
  },
  {
   "cell_type": "markdown",
   "metadata": {},
   "source": [
    "It is expected that the error depends on the number of sub-intervals $n$ as\n",
    "    $$ \\epsilon \\propto \\frac{1}{n^\\alpha} $$\n",
    "\n",
    "Using linear regression, determine the value of $\\alpha$ for each of the rules.\n",
    "\n",
    "Comment your work and results, and do not forget to label your plots."
   ]
  },
  {
   "cell_type": "code",
   "execution_count": 12,
   "metadata": {},
   "outputs": [
    {
     "data": {
      "image/png": "[encoded data removed]",
      "text/plain": [
       "<Figure size 432x288 with 1 Axes>"
      ]
     },
     "metadata": {
      "needs_background": "light"
     },
     "output_type": "display_data"
    }
   ],
   "source": [
    "def lin_reg(x_data, y_data):\n",
    "    \n",
    "    x_ = np.average(x_data)\n",
    "    y_ = np.average(y_data)\n",
    "    s1 = np.sum(x_data*y_data) - len(x_data)*x_*y_\n",
    "    s2 = np.sum(x_data**2) - len(x_data)*x_**2\n",
    "\n",
    "    a1 = s1/s2\n",
    "    a0 = y_ - a1*x_\n",
    "    \n",
    "    return a1\n",
    "\n",
    "if __name__ == \"__main__\":\n",
    "    d2_abs = 0.4429185594236305\n",
    "    err_l, err_r, err_m, err_t,err_s = [], [], [], [], []\n",
    "    N = [1, 10, 100, 1000, 10000]\n",
    "    for n in N:\n",
    "        x = np.linspace(0,3,n)\n",
    "\n",
    "        err_l.append(abs_error(d2_abs,L(x)))\n",
    "        err_r.append(abs_error(d2_abs,R(x)))\n",
    "        err_m.append(abs_error(d2_abs,M(x)))\n",
    "        err_t.append(abs_error(d2_abs,T(x)))\n",
    "        err_s.append(abs_error(d2_abs,S(x)))\n",
    "    \n",
    "    plt.plot(1, lin_reg(np.log(N), np.log(err_l)), marker='*', markersize=10)\n",
    "    plt.plot(2, lin_reg(np.log(N), np.log(err_r)), marker='+', markersize=10)\n",
    "    plt.plot(3, lin_reg(np.log(N), np.log(err_m)), marker='p', markersize=10)\n",
    "    plt.plot(4, lin_reg(np.log(N), np.log(err_t)), marker='P', markersize=10)\n",
    "    plt.plot(5, lin_reg(np.log(N), np.log(err_s)), marker='x', markersize=10)\n",
    "    plt.xticks([1,2,3,4,5],['left','right','middle','trapezoidal','simpson'])\n"
   ]
  },
  {
   "cell_type": "markdown",
   "metadata": {},
   "source": [
    "## Improper integrals"
   ]
  },
  {
   "cell_type": "markdown",
   "metadata": {},
   "source": [
    "Integrate the improper integral  for $x = 1$\n",
    "$$ \\int_{-\\infty}^x \\frac{1}{\\sqrt{2 \\pi}} \\exp{(-x^2/2)} \\; dx  $$\n"
   ]
  },
  {
   "cell_type": "code",
   "execution_count": 13,
   "metadata": {},
   "outputs": [],
   "source": [
    "f = lambda x: 1 / np.sqrt((2*np.pi)) * np.exp(-x**2/2)"
   ]
  },
  {
   "cell_type": "markdown",
   "metadata": {},
   "source": [
    "## Monte Carlo Integration"
   ]
  },
  {
   "cell_type": "markdown",
   "metadata": {},
   "source": [
    "In this exercise you are going to:\n",
    "\n",
    "- implement a Monte Carlo integration routine \n",
    "- find the integral of $f(x)=x^2$ over the interval $[-2,2]$ \n",
    "- study the dependence of the absolute error on the number of samples."
   ]
  },
  {
   "cell_type": "markdown",
   "metadata": {},
   "source": [
    "Define the function $f(x)$ and a function `montecarlo` that returns the integral.\n",
    "\n",
    "```python\n",
    "def montecarlo(f,a,b,n):\n",
    "    \"\"\"f is function to integrate over the interval [a,b] with n random points\"\"\"\n",
    "    ...\n",
    "    ...\n",
    "    return I\n",
    "```"
   ]
  },
  {
   "cell_type": "code",
   "execution_count": 10,
   "metadata": {},
   "outputs": [],
   "source": [
    "f = lambda x : x**2\n",
    "\n",
    "def montecarlo(f,a,b,n):\n",
    "    _f_ = 1. / n * np.sum(f(x))\n",
    "    I = (b - a) * _f_\n",
    "    return I"
   ]
  },
  {
   "cell_type": "markdown",
   "metadata": {},
   "source": [
    "Calculate the integral and the absolute error, do the same integral with one of the methods you developed earlier. Compare and comment your results."
   ]
  },
  {
   "cell_type": "code",
   "execution_count": 11,
   "metadata": {},
   "outputs": [
    {
     "name": "stdout",
     "output_type": "stream",
     "text": [
      "5.344010677344011\n"
     ]
    }
   ],
   "source": [
    "x = np.linspace(-2, 2, 1000)\n",
    "I = montecarlo(f, x[0], x[-1], len(x))\n",
    "print(I)"
   ]
  },
  {
   "cell_type": "code",
   "execution_count": 12,
   "metadata": {},
   "outputs": [
    {
     "data": {
      "text/plain": [
       "5.32801067734401"
      ]
     },
     "execution_count": 12,
     "metadata": {},
     "output_type": "execute_result"
    }
   ],
   "source": [
    "h = (x[-1] - x[0])/len(x)\n",
    "L = lambda x: h * np.sum(f(x[:-1]))\n",
    "L(x)"
   ]
  },
  {
   "cell_type": "markdown",
   "metadata": {},
   "source": [
    "Study the dependence of the absolute error on the number of random samples $n$ with $n=10\\dots10^4$\n",
    "\n",
    "- For each value of $n$ calculate the integral $N=100$ times and take the mean value $\\left< I(n)\\right>$.\n",
    "- Calculate the absolute error with respect to this mean, plot it as a function of $n$.\n",
    "- Fit the data and remember that the error is expected to be\n",
    "    $$E \\sim \\frac{1}{\\sqrt{n}}$$\n",
    "    \n",
    "- For $N=1000$ and $n=1000$, plot the probability distribution function of $\\left< I(n)\\right>$. Comment. "
   ]
  },
  {
   "cell_type": "code",
   "execution_count": 28,
   "metadata": {},
   "outputs": [
    {
     "data": {
      "text/plain": [
       "<matplotlib.legend.Legend at 0x21f33d6ee08>"
      ]
     },
     "execution_count": 28,
     "metadata": {},
     "output_type": "execute_result"
    },
    {
     "data": {
      "image/png": "[encoded data removed]",
      "text/plain": [
       "<Figure size 432x288 with 1 Axes>"
      ]
     },
     "metadata": {
      "needs_background": "light"
     },
     "output_type": "display_data"
    }
   ],
   "source": [
    "n = [10, 100, 1000, 10000]\n",
    "f_abs = 16./3\n",
    "err = []\n",
    "for i in n:\n",
    "    x = np.linspace(-2, 2, i)\n",
    "    I = []\n",
    "    for _ in range(100):\n",
    "        I.append(montecarlo(f, x[0], x[-1], len(x)))\n",
    "    _I_ = np.mean(I)\n",
    "    err.append(abs_error(_I_, f_abs))\n",
    "err = np.array(err)\n",
    "plt.plot(n[0], err[0], marker='*', markersize=10)\n",
    "plt.plot(n[1], err[1], marker='*', markersize=10)\n",
    "plt.plot(n[2], err[2], marker='*', markersize=10)\n",
    "plt.plot(n[3], err[3], marker='*', markersize=10)\n",
    "\n",
    "plt.plot(np.linspace(10,10000), 1/np.sqrt(np.linspace(10,1000)), \n",
    "         label=\"$E \\sim \\\\frac{1}{\\\\sqrt{n}}$\")\n",
    "plt.legend()"
   ]
  },
  {
   "cell_type": "code",
   "execution_count": 62,
   "metadata": {},
   "outputs": [
    {
     "data": {
      "image/png": "[encoded data removed]",
      "text/plain": [
       "<Figure size 432x288 with 1 Axes>"
      ]
     },
     "metadata": {
      "needs_background": "light"
     },
     "output_type": "display_data"
    }
   ],
   "source": [
    "from scipy.stats import norm\n",
    "x = np.linspace(-2, 2, 1000)\n",
    "I = []\n",
    "for _ in range(1000):\n",
    "    I.append(montecarlo(f, x[0], x[-1], len(x)))\n",
    "_I_ = np.mean(I)\n",
    "std = np.sqrt(np.var(I))\n",
    "y = ((1 / (np.sqrt(2 * np.pi) * std)) * np.exp(-0.5 * (1 / std * (5 - _I_))**2))\n",
    "plt.hist(_I_, 5, density=True)\n",
    "plt.plot(5, y)\n",
    "plt.show()"
   ]
  }
 ],
 "metadata": {
  "kernelspec": {
   "display_name": "Python 3",
   "language": "python",
   "name": "python3"
  },
  "language_info": {
   "codemirror_mode": {
    "name": "ipython",
    "version": 3
   },
   "file_extension": ".py",
   "mimetype": "text/x-python",
   "name": "python",
   "nbconvert_exporter": "python",
   "pygments_lexer": "ipython3",
   "version": "3.7.4"
  },
  "toc": {
   "base_numbering": 1,
   "nav_menu": {
    "height": "167px",
    "width": "444px"
   },
   "number_sections": true,
   "sideBar": true,
   "skip_h1_title": false,
   "title_cell": "Table of Contents",
   "title_sidebar": "Contents",
   "toc_cell": false,
   "toc_position": {},
   "toc_section_display": true,
   "toc_window_display": false
  },
  "varInspector": {
   "cols": {
    "lenName": 16,
    "lenType": 16,
    "lenVar": 40
   },
   "kernels_config": {
    "python": {
     "delete_cmd_postfix": "",
     "delete_cmd_prefix": "del ",
     "library": "var_list.py",
     "varRefreshCmd": "print(var_dic_list())"
    },
    "r": {
     "delete_cmd_postfix": ") ",
     "delete_cmd_prefix": "rm(",
     "library": "var_list.r",
     "varRefreshCmd": "cat(var_dic_list()) "
    }
   },
   "types_to_exclude": [
    "module",
    "function",
    "builtin_function_or_method",
    "instance",
    "_Feature"
   ],
   "window_display": false
  }
 },
 "nbformat": 4,
 "nbformat_minor": 2
}
