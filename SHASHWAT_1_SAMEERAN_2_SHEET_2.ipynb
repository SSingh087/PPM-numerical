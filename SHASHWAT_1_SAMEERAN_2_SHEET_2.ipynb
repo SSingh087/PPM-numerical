{
 "cells": [
  {
   "cell_type": "markdown",
   "metadata": {},
   "source": [
    "- Student 1 Name: SHASHWAT SINGH\n",
    "- Student 2 Name: SAMEERAN BANERJEE\n",
    "\n",
    "change the name of this notebook to  `name_1_name_2_notebook_??.ipynb` with *no spaces, no accents and no strange characters!* and where `??` stands for the number of the notebook you are working on."
   ]
  },
  {
   "cell_type": "markdown",
   "metadata": {},
   "source": [
    "# PPM Numerical Methods -- Numerical Methods for Physics"
   ]
  },
  {
   "cell_type": "markdown",
   "metadata": {},
   "source": [
    "# Numerical methods: Root finding"
   ]
  },
  {
   "cell_type": "markdown",
   "metadata": {},
   "source": [
    "# Root finding"
   ]
  },
  {
   "cell_type": "markdown",
   "metadata": {},
   "source": [
    "## Bisection method"
   ]
  },
  {
   "cell_type": "markdown",
   "metadata": {},
   "source": [
    "Use the bisection method to find the root of the function\n",
    "    $$ f(x) = \\frac{1}{2} - e^{-x}$$\n",
    "think carefully how to estimate the error to end the calculation. "
   ]
  },
  {
   "cell_type": "code",
   "execution_count": 1,
   "metadata": {},
   "outputs": [],
   "source": [
    "import numpy as np\n",
    "import matplotlib.pyplot as plt"
   ]
  },
  {
   "cell_type": "code",
   "execution_count": 2,
   "metadata": {},
   "outputs": [
    {
     "name": "stdout",
     "output_type": "stream",
     "text": [
      "0.6956956956956957 0.6956956956956957\n"
     ]
    },
    {
     "data": {
      "image/png": "[encoded data removed]",
      "text/plain": [
       "<Figure size 432x288 with 1 Axes>"
      ]
     },
     "metadata": {
      "needs_background": "light"
     },
     "output_type": "display_data"
    }
   ],
   "source": [
    "f = lambda x: (0.5 - np.exp(-x))\n",
    "\n",
    "def bisec(a,b,y):   \n",
    "    while y[a]*y[b]<0:\n",
    "        b = b-1\n",
    "    b = b+1\n",
    "    while y[a]*y[b]<0:\n",
    "        a = a+1\n",
    "    return a,b\n",
    "\n",
    "if __name__ == \"__main__\":\n",
    "    x = np.linspace(0,5,1000, dtype=np.float64)\n",
    "    y = f(x)\n",
    "    a = 0\n",
    "    b = -1\n",
    "    a, b = bisec(a,b,y)\n",
    "    print(x[a],x[b])\n",
    "    plt.plot(x,y)\n",
    "    plt.scatter((x[a],x[b]),(y[a],y[b]))\n",
    "    plt.hlines(0,0,1.5)\n",
    "    plt.vlines(np.log(2),-0.2,0.2)\n",
    "    plt.xlabel(\"x\")\n",
    "    plt.ylabel(\"$f(x)$\")\n",
    "    plt.show()"
   ]
  },
  {
   "cell_type": "markdown",
   "metadata": {},
   "source": [
    "## False-position method"
   ]
  },
  {
   "cell_type": "markdown",
   "metadata": {},
   "source": [
    "Use the false position method to find the root of the function\n",
    "    $$ f(x) = \\frac{1}{2} - e^{-x}$$\n",
    "and compare to the bisection method"
   ]
  },
  {
   "cell_type": "code",
   "execution_count": 3,
   "metadata": {},
   "outputs": [
    {
     "name": "stdout",
     "output_type": "stream",
     "text": [
      "0.6974619338231848 0.6982410805842632\n"
     ]
    }
   ],
   "source": [
    "f = lambda x: (0.5 - np.exp(-x))\n",
    "\n",
    "def false_pos(a,b,y): \n",
    "    counter = 0 \n",
    "    while y[a]*y[b]<0:\n",
    "        xr1 = x[b] - (y[b]*(x[b]-x[a]))/(y[a]-y[b])\n",
    "        b = b-1\n",
    "        if counter > 1000:\n",
    "            break\n",
    "        counter += 1 \n",
    "    b = b+1\n",
    "    while y[a]*y[b]<0:\n",
    "        xr2 = x[b] - (y[b]*(x[b]-x[a]))/(y[a]-y[b])   \n",
    "        a = a+1\n",
    "        if counter > 1000:\n",
    "            break\n",
    "        counter += 1 \n",
    "    return xr1, xr2 \n",
    "\n",
    "if __name__ == \"__main__\":\n",
    "    x = np.linspace(0,5,1000, dtype=np.float64)\n",
    "    y = f(x)\n",
    "    a = 0\n",
    "    b = -1\n",
    "    xr1, xr2 = false_pos(a,b,y)\n",
    "    print(xr1, xr2)"
   ]
  },
  {
   "cell_type": "markdown",
   "metadata": {},
   "source": [
    "## The Newton-Raphson Method"
   ]
  },
  {
   "cell_type": "markdown",
   "metadata": {},
   "source": [
    "Implement the Newton-Rapshon method to solve \n",
    "$$ f(x) = \\frac{1}{2} - e^{-x}$$\n",
    "and compare to the bisection and false position methods\n",
    "\n",
    "- Try different starting guess values, e.g. -1, 1, 5 and 30\n",
    "- Comment"
   ]
  },
  {
   "cell_type": "code",
   "execution_count": 4,
   "metadata": {},
   "outputs": [
    {
     "name": "stdout",
     "output_type": "stream",
     "text": [
      "0.6931471805599453\n"
     ]
    }
   ],
   "source": [
    "f = lambda x: (0.5 - np.exp(-x))\n",
    "f_dash = lambda x: np.exp(-x)\n",
    "\n",
    "x = .1\n",
    "e = .001\n",
    "condition = 1\n",
    "\n",
    "counter = 0 \n",
    "while (condition):\n",
    "    x_ = x - f(x)/f_dash(x)\n",
    "    x = x_\n",
    "    condition = (abs(f(x_) < e))\n",
    "    if counter > 100:\n",
    "        break\n",
    "    counter += 1\n",
    "print(x)"
   ]
  },
  {
   "cell_type": "markdown",
   "metadata": {},
   "source": [
    "## The Secant Method"
   ]
  },
  {
   "cell_type": "markdown",
   "metadata": {},
   "source": [
    "Implement the Newton-Rapshon method to solve \n",
    "$$ f(x) = \\frac{1}{2} - e^{-x}$$\n",
    "and compare to the bisection and false position methods\n",
    "\n",
    "- Try different starting guess values, e.g. -1, 1, 5 and 30\n",
    "- Comment"
   ]
  },
  {
   "cell_type": "code",
   "execution_count": 5,
   "metadata": {},
   "outputs": [
    {
     "name": "stdout",
     "output_type": "stream",
     "text": [
      "0.6881732387073796 0.6930399605396784\n"
     ]
    }
   ],
   "source": [
    "f = lambda x: (0.5 - np.exp(-x))\n",
    "\n",
    "def secant(x0,x1,e):\n",
    "    x2 = x0 - (x1 - x0) * f(x0) / (f(x1) - f(x0)) \n",
    "    while abs(f(x2)) > e:\n",
    "        x2 = x0 - (x1 - x0) * f(x0) / (f(x1) - f(x0)) \n",
    "        x0 = x1\n",
    "        x1 = x2\n",
    "    return x0, x1\n",
    "\n",
    "if __name__ == \"__main__\":\n",
    "    a = 0\n",
    "    b = -1\n",
    "    e = .0001\n",
    "    x0, x1 = secant(a, b, e)\n",
    "    print(x0, x1)"
   ]
  },
  {
   "cell_type": "markdown",
   "metadata": {},
   "source": [
    "## The Modified Secant Method"
   ]
  },
  {
   "cell_type": "markdown",
   "metadata": {},
   "source": [
    "Implement the modified secant method and compare it to the other methods."
   ]
  },
  {
   "cell_type": "code",
   "execution_count": 6,
   "metadata": {},
   "outputs": [
    {
     "name": "stdout",
     "output_type": "stream",
     "text": [
      "0.6929959049344669\n"
     ]
    }
   ],
   "source": [
    "f = lambda x: (0.5 - np.exp(-x))\n",
    "\n",
    "def mod_secant(x0,x1,delta_x):\n",
    "    x2 = x0 - delta_x * f(x0) / (f(x0 + delta_x) - f(x0))  \n",
    "    while abs(f(x1)) > e:\n",
    "        x1 = x0 - delta_x * f(x0) / (f(x0 + delta_x) - f(x0)) \n",
    "        x0 = x1\n",
    "    return x0\n",
    "\n",
    "if __name__ == \"__main__\":\n",
    "    a = 0.\n",
    "    b = -1.\n",
    "    delta_x = .0001\n",
    "    x0 = mod_secant(a, b, delta_x)\n",
    "    print(x0)"
   ]
  }
 ],
 "metadata": {
  "anaconda-cloud": {},
  "kernelspec": {
   "display_name": "Python 3",
   "language": "python",
   "name": "python3"
  },
  "language_info": {
   "codemirror_mode": {
    "name": "ipython",
    "version": 3
   },
   "file_extension": ".py",
   "mimetype": "text/x-python",
   "name": "python",
   "nbconvert_exporter": "python",
   "pygments_lexer": "ipython3",
   "version": "3.7.4"
  }
 },
 "nbformat": 4,
 "nbformat_minor": 4
}
