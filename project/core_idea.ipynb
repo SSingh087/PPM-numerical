{
  "nbformat": 4,
  "nbformat_minor": 0,
  "metadata": {
    "colab": {
      "name": "core idea.ipynb",
      "provenance": []
    },
    "kernelspec": {
      "name": "python3",
      "display_name": "Python 3"
    },
    "language_info": {
      "name": "python"
    }
  },
  "cells": [
    {
      "cell_type": "code",
      "metadata": {
        "id": "TYpWsQ1Zvq-l"
      },
      "source": [
        "import numpy as np\n",
        "import matplotlib.pyplot as plt\n",
        "from scipy import stats"
      ],
      "execution_count": null,
      "outputs": []
    },
    {
      "cell_type": "code",
      "metadata": {
        "id": "eMRxLrljvsAf"
      },
      "source": [
        "x = 57\n",
        "n = 100\n",
        "# Define the Likelihood P(x|p) - binomial distribution\n",
        "def likelihood(p):\n",
        "    return stats.binom.pmf(x, n, p)"
      ],
      "execution_count": null,
      "outputs": []
    },
    {
      "cell_type": "code",
      "metadata": {
        "id": "UtjvpHVLwEi7"
      },
      "source": [
        "# Define Prior Function - Uniform Distribution\n",
        "def prior(p):\n",
        "    return stats.uniform.pdf(p)"
      ],
      "execution_count": null,
      "outputs": []
    },
    {
      "cell_type": "code",
      "metadata": {
        "id": "mNphRnzWvsbD"
      },
      "source": [
        "# Create function to compute acceptance ratio\n",
        "# This function will accept the current and proposed values of p\n",
        "def acceptance_ratio(p, p_new):\n",
        "    # Return R, using the functions we created before\n",
        "    return min(1, ((likelihood(p_new) / likelihood(p)) * (prior(p_new) / prior(p))))"
      ],
      "execution_count": null,
      "outputs": []
    },
    {
      "cell_type": "code",
      "metadata": {
        "id": "mFKA2r2wwCtV"
      },
      "source": [
        "# Create empty list to store samples\n",
        "results = []\n",
        "\n",
        "# Initialzie a value of p\n",
        "p = np.random.uniform(0, 1)\n",
        "\n",
        "# Define model parameters\n",
        "n_samples = 25000\n",
        "burn_in = 5000\n",
        "lag = 5\n",
        "\n",
        "# Create the MCMC loop\n",
        "for i in range(n_samples):\n",
        "    # Propose a new value of p randomly from a uniform distribution between 0 and 1\n",
        "    p_new = np.random.random_sample()\n",
        "    # Compute acceptance probability\n",
        "    R = acceptance_ratio(p, p_new)\n",
        "    # Draw random sample to compare R to\n",
        "    u = np.random.random_sample()\n",
        "    # If R is greater than u, accept the new value of p (set p = p_new)\n",
        "    if u < R:\n",
        "        p = p_new\n",
        "    # Record values after burn in - how often determined by lag\n",
        "    if i > burn_in and i%lag == 0:\n",
        "        results.append(p)"
      ],
      "execution_count": null,
      "outputs": []
    },
    {
      "cell_type": "code",
      "metadata": {
        "colab": {
          "base_uri": "https://localhost:8080/",
          "height": 285
        },
        "id": "nTGfffiawR0v",
        "outputId": "4378c8bc-5a48-4434-f2aa-5a831581658d"
      },
      "source": [
        "plt.plot(results)"
      ],
      "execution_count": null,
      "outputs": [
        {
          "output_type": "execute_result",
          "data": {
            "text/plain": [
              "[<matplotlib.lines.Line2D at 0x7f1145d8f650>]"
            ]
          },
          "metadata": {},
          "execution_count": 7
        },
        {
          "output_type": "display_data",
          "data": {
            "image/png": "[encoded data removed]",
            "text/plain": [
              "<Figure size 432x288 with 1 Axes>"
            ]
          },
          "metadata": {
            "needs_background": "light"
          }
        }
      ]
    },
    {
      "cell_type": "code",
      "metadata": {
        "colab": {
          "base_uri": "https://localhost:8080/",
          "height": 354
        },
        "id": "toJDEIQOwY0c",
        "outputId": "4c9d1d9e-459f-4be3-88a8-18fb548febee"
      },
      "source": [
        "plt.hist(results)"
      ],
      "execution_count": null,
      "outputs": [
        {
          "output_type": "execute_result",
          "data": {
            "text/plain": [
              "(array([ 17., 106., 322., 732., 949., 930., 656., 247.,  29.,  11.]),\n",
              " array([0.40646137, 0.43954455, 0.47262773, 0.50571091, 0.53879409,\n",
              "        0.57187726, 0.60496044, 0.63804362, 0.6711268 , 0.70420998,\n",
              "        0.73729315]),\n",
              " <a list of 10 Patch objects>)"
            ]
          },
          "metadata": {},
          "execution_count": 8
        },
        {
          "output_type": "display_data",
          "data": {
            "image/png": "[encoded data removed]",
            "text/plain": [
              "<Figure size 432x288 with 1 Axes>"
            ]
          },
          "metadata": {
            "needs_background": "light"
          }
        }
      ]
    },
    {
      "cell_type": "markdown",
      "metadata": {
        "id": "U8Hq1LarKYi8"
      },
      "source": [
        "# increase experiments "
      ]
    },
    {
      "cell_type": "code",
      "metadata": {
        "id": "nJL-hdtoKeR8"
      },
      "source": [
        "x = 2000\n",
        "n = 10000\n",
        "def likelihood(p):\n",
        "    return stats.binom.pmf(x, n, p)"
      ],
      "execution_count": null,
      "outputs": []
    },
    {
      "cell_type": "code",
      "metadata": {
        "colab": {
          "base_uri": "https://localhost:8080/"
        },
        "id": "bojC7-f5KhH7",
        "outputId": "a4f04964-eb21-42c0-d7e3-9fe34453efde"
      },
      "source": [
        "results = []\n",
        "p = np.random.uniform(0, 1)\n",
        "\n",
        "n_samples = 250000\n",
        "burn_in = 5000\n",
        "lag = 5\n",
        "\n",
        "for i in range(n_samples):\n",
        "    p_new = np.random.random_sample()\n",
        "    R = acceptance_ratio(p, p_new)\n",
        "    u = np.random.random_sample()\n",
        "    if u < R:\n",
        "        p = p_new\n",
        "    if i > burn_in and i%lag == 0:\n",
        "        results.append(p)"
      ],
      "execution_count": null,
      "outputs": [
        {
          "output_type": "stream",
          "name": "stderr",
          "text": [
            "/usr/local/lib/python3.7/dist-packages/ipykernel_launcher.py:5: RuntimeWarning: invalid value encountered in double_scalars\n",
            "  \"\"\"\n",
            "/usr/local/lib/python3.7/dist-packages/ipykernel_launcher.py:5: RuntimeWarning: divide by zero encountered in double_scalars\n",
            "  \"\"\"\n"
          ]
        }
      ]
    },
    {
      "cell_type": "code",
      "metadata": {
        "colab": {
          "base_uri": "https://localhost:8080/",
          "height": 283
        },
        "id": "tNsx7JFGKi-U",
        "outputId": "10c8005e-f0e2-4523-dc4b-734c1e4ad75c"
      },
      "source": [
        "plt.plot(results)"
      ],
      "execution_count": null,
      "outputs": [
        {
          "output_type": "execute_result",
          "data": {
            "text/plain": [
              "[<matplotlib.lines.Line2D at 0x7f11456a5d10>]"
            ]
          },
          "metadata": {},
          "execution_count": 14
        },
        {
          "output_type": "display_data",
          "data": {
            "image/png": "[encoded data removed]",
            "text/plain": [
              "<Figure size 432x288 with 1 Axes>"
            ]
          },
          "metadata": {
            "needs_background": "light"
          }
        }
      ]
    },
    {
      "cell_type": "code",
      "metadata": {
        "colab": {
          "base_uri": "https://localhost:8080/",
          "height": 373
        },
        "id": "BP-sP1O9Ki-V",
        "outputId": "2f603603-0720-46e8-860c-2aa6e5724acc"
      },
      "source": [
        "plt.hist(results)"
      ],
      "execution_count": null,
      "outputs": [
        {
          "output_type": "execute_result",
          "data": {
            "text/plain": [
              "(array([  111.,   456.,  2291.,  8563., 12716., 13803.,  7789.,  2693.,\n",
              "          447.,   130.]),\n",
              " array([0.18564804, 0.18853948, 0.19143092, 0.19432237, 0.19721381,\n",
              "        0.20010526, 0.2029967 , 0.20588814, 0.20877959, 0.21167103,\n",
              "        0.21456247]),\n",
              " <a list of 10 Patch objects>)"
            ]
          },
          "metadata": {},
          "execution_count": 15
        },
        {
          "output_type": "display_data",
          "data": {
            "image/png": "[encoded data removed]",
            "text/plain": [
              "<Figure size 432x288 with 1 Axes>"
            ]
          },
          "metadata": {
            "needs_background": "light"
          }
        }
      ]
    }
  ]
}