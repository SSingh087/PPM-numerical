{
 "cells": [
  {
   "cell_type": "markdown",
   "metadata": {},
   "source": [
    "- Student 1 Name: SHASHWAT SINGH\n",
    "- Student 2 Name: SAMEERAN BANERJEE\n",
    "\n",
    "change the name of this notebook to  `name_1_name_2_notebook_??.ipynb` with *no spaces, no accents and no strange characters!* and where `??` stands for the number of the notebook you are working on."
   ]
  },
  {
   "cell_type": "markdown",
   "metadata": {},
   "source": [
    "# PPM Numerical Methods -- Numerical Methods for Physics"
   ]
  },
  {
   "cell_type": "markdown",
   "metadata": {},
   "source": [
    "# Numerical methods: Root finding"
   ]
  },
  {
   "cell_type": "markdown",
   "metadata": {},
   "source": [
    "# Root finding"
   ]
  },
  {
   "cell_type": "markdown",
   "metadata": {},
   "source": [
    "## Bisection method"
   ]
  },
  {
   "cell_type": "markdown",
   "metadata": {},
   "source": [
    "Use the bisection method to find the root of the function\n",
    "    $$ f(x) = \\frac{1}{2} - e^{-x}$$\n",
    "think carefully how to estimate the error to end the calculation. "
   ]
  },
  {
   "cell_type": "code",
   "execution_count": 1,
   "metadata": {},
   "outputs": [
    {
     "name": "stdout",
     "output_type": "stream",
     "text": [
      "0.6956956956956957 0.6956956956956957\n"
     ]
    },
    {
     "data": {
      "text/plain": [
       "<Figure size 640x480 with 1 Axes>"
      ]
     },
     "metadata": {},
     "output_type": "display_data"
    }
   ],
   "source": [
    "import numpy as np\n",
    "import matplotlib.pyplot as plt\n",
    "x = np.linspace(0,5,1000, dtype=np.float64)\n",
    "y = 0.5 - np.exp(-x)\n",
    "a = 0\n",
    "b = -1\n",
    "counter = 0\n",
    "while y[a]*y[b]<0:\n",
    "    b = b-1\n",
    "    if counter > 1000:\n",
    "        break\n",
    "b = b+1\n",
    "while y[a]*y[b]<0:\n",
    "    a = a+1\n",
    "    if counter > 1000:\n",
    "        break           \n",
    "print(x[a],x[b])\n",
    "plt.plot(x,y)\n",
    "plt.scatter((x[a],x[b]),(y[a],y[b]))\n",
    "plt.hlines(0,0,1.5)\n",
    "plt.vlines(np.log(2),-0.2,0.2)\n",
    "plt.show()\n",
    "# qvg value\n",
    "x1bi = x[a]\n",
    "x2bi = x[b]"
   ]
  },
  {
   "cell_type": "markdown",
   "metadata": {},
   "source": [
    "## False-position method"
   ]
  },
  {
   "cell_type": "markdown",
   "metadata": {},
   "source": [
    "Use the false position method to find the root of the function\n",
    "    $$ f(x) = \\frac{1}{2} - e^{-x}$$\n",
    "and compare to the bisection method"
   ]
  },
  {
   "cell_type": "code",
   "execution_count": 2,
   "metadata": {},
   "outputs": [
    {
     "name": "stdout",
     "output_type": "stream",
     "text": [
      "Bisec 0.6956956956956957 0.6956956956956957\n",
      "False Position 0.6974619338231848 0.6982410805842632\n"
     ]
    }
   ],
   "source": [
    "x = np.linspace(0,5,1000, dtype=np.float64)\n",
    "y = 0.5 - np.exp(-x)\n",
    "\n",
    "a = 0\n",
    "b = -1\n",
    "\n",
    "counter = 0\n",
    "while y[a]*y[b]<0:\n",
    "    xr1 = x[b] - (y[b]*(x[b]-x[a]))/(y[a]-y[b])\n",
    "\n",
    "    b = b-1\n",
    "    if counter > 1000:\n",
    "        break\n",
    "b = b+1\n",
    "while y[a]*y[b]<0:\n",
    "    xr2 = x[b] - (y[b]*(x[b]-x[a]))/(y[a]-y[b])\n",
    "    \n",
    "    a = a+1\n",
    "    if counter > 1000:\n",
    "        break\n",
    "print(\"Bisec\",x1bi, x2bi)\n",
    "print(\"False Position\",xr1,xr2)"
   ]
  },
  {
   "cell_type": "markdown",
   "metadata": {},
   "source": [
    "## The Newton-Raphson Method"
   ]
  },
  {
   "cell_type": "markdown",
   "metadata": {},
   "source": [
    "Implement the Newton-Rapshon method to solve \n",
    "$$ f(x) = \\frac{1}{2} - e^{-x}$$\n",
    "and compare to the bisection and false position methods\n",
    "\n",
    "- Try different starting guess values, e.g. -1, 1, 5 and 30\n",
    "- Comment"
   ]
  },
  {
   "cell_type": "code",
   "execution_count": 4,
   "metadata": {},
   "outputs": [
    {
     "name": "stdout",
     "output_type": "stream",
     "text": [
      "ops\n",
      "0.6931471805599453\n"
     ]
    }
   ],
   "source": [
    "f = lambda x: (0.5 - np.exp(-x))\n",
    "f_dash = lambda x: np.exp(-x)\n",
    "\n",
    "x = .1\n",
    "e = .01\n",
    "condition = 1\n",
    "\n",
    "counter = 0 \n",
    "while (condition):\n",
    "    x_ = x - f(x)/f_dash(x)\n",
    "    x = x_\n",
    "    condition = (abs(f(x_) < e))\n",
    "    if counter > 1000:\n",
    "        print(\"ops\")\n",
    "        break\n",
    "    counter += 1\n",
    "print(x)"
   ]
  },
  {
   "cell_type": "markdown",
   "metadata": {},
   "source": [
    "## The Secant Method"
   ]
  },
  {
   "cell_type": "markdown",
   "metadata": {},
   "source": [
    "Implement the Newton-Rapshon method to solve \n",
    "$$ f(x) = \\frac{1}{2} - e^{-x}$$\n",
    "and compare to the bisection and false position methods\n",
    "\n",
    "- Try different starting guess values, e.g. -1, 1, 5 and 30\n",
    "- Comment"
   ]
  },
  {
   "cell_type": "code",
   "execution_count": 5,
   "metadata": {},
   "outputs": [
    {
     "ename": "SyntaxError",
     "evalue": "invalid character in identifier (<ipython-input-5-d60050e37733>, line 2)",
     "output_type": "error",
     "traceback": [
      "\u001b[1;36m  File \u001b[1;32m\"<ipython-input-5-d60050e37733>\"\u001b[1;36m, line \u001b[1;32m2\u001b[0m\n\u001b[1;33m    f_dash = lambda a, b : (f(a) − f(b))/(a − b)\u001b[0m\n\u001b[1;37m                                 ^\u001b[0m\n\u001b[1;31mSyntaxError\u001b[0m\u001b[1;31m:\u001b[0m invalid character in identifier\n"
     ]
    }
   ],
   "source": [
    "f = lambda x: (0.5 - np.exp(-x))\n",
    "f_dash = lambda a, b : (f(a) - f(b))/(a - b)\n",
    "\n",
    "x = .1\n",
    "e = .0001\n",
    "condition = 1\n",
    "\n",
    "counter = 0\n",
    "while (condition):\n",
    "    x_ = x - f(x)()f_dash(x)\n",
    "    x = x_\n",
    "    condition = (abs(f(x_) < e))\n",
    "    if counter > 1000:\n",
    "        print(\"ops\")\n",
    "        break\n",
    "    counter += 1\n",
    "print(x)"
   ]
  },
  {
   "cell_type": "markdown",
   "metadata": {},
   "source": [
    "## The Modified Secant Method"
   ]
  },
  {
   "cell_type": "markdown",
   "metadata": {},
   "source": [
    "Implement the modified secant method and compare it to the other methods."
   ]
  },
  {
   "cell_type": "code",
   "execution_count": null,
   "metadata": {},
   "outputs": [],
   "source": [
    "f = lambda x: (0.5 - np.exp(-x))\n",
    "f_dash = lambda a, b : (f(a) - f(b))/(a - b)\n",
    "\n",
    "x = .1\n",
    "e = .0001\n",
    "condition = 1\n",
    "\n",
    "counter = 0\n",
    "while (condition):\n",
    "    x_ = x - f(x)()f_dash(x)\n",
    "    x = x_\n",
    "    condition = (abs(f(x_) < e))\n",
    "    if counter > 1000:\n",
    "        print(\"ops\")\n",
    "        break\n",
    "    counter +="
   ]
  }
 ],
 "metadata": {
  "anaconda-cloud": {},
  "kernelspec": {
   "display_name": "Python 3",
   "language": "python",
   "name": "python3"
  },
  "language_info": {
   "codemirror_mode": {
    "name": "ipython",
    "version": 3
   },
   "file_extension": ".py",
   "mimetype": "text/x-python",
   "name": "python",
   "nbconvert_exporter": "python",
   "pygments_lexer": "ipython3",
   "version": "3.7.4"
  }
 },
 "nbformat": 4,
 "nbformat_minor": 4
}
