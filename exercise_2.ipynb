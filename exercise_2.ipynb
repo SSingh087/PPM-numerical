{
  "nbformat": 4,
  "nbformat_minor": 0,
  "metadata": {
    "kernelspec": {
      "display_name": "Python 3",
      "language": "python",
      "name": "python3"
    },
    "language_info": {
      "codemirror_mode": {
        "name": "ipython",
        "version": 3
      },
      "file_extension": ".py",
      "mimetype": "text/x-python",
      "name": "python",
      "nbconvert_exporter": "python",
      "pygments_lexer": "ipython3",
      "version": "3.7.4"
    },
    "colab": {
      "name": "exercise_2.ipynb",
      "provenance": [],
      "include_colab_link": true
    }
  },
  "cells": [
    {
      "cell_type": "markdown",
      "metadata": {
        "id": "view-in-github",
        "colab_type": "text"
      },
      "source": [
        "<a href=\"https://colab.research.google.com/github/SSingh087/PPM-numerical/blob/main/exercise_2.ipynb\" target=\"_parent\"><img src=\"https://colab.research.google.com/assets/colab-badge.svg\" alt=\"Open In Colab\"/></a>"
      ]
    },
    {
      "cell_type": "code",
      "metadata": {
        "id": "m3b8Gd6twoW8"
      },
      "source": [
        "import numpy as np\n",
        "import matplotlib.pyplot as plt"
      ],
      "execution_count": 1,
      "outputs": []
    },
    {
      "cell_type": "markdown",
      "metadata": {
        "id": "_0yb8-m_woXC"
      },
      "source": [
        "### Student Name "
      ]
    },
    {
      "cell_type": "markdown",
      "metadata": {
        "id": "supWfobjwoXD"
      },
      "source": [
        "Write here your name"
      ]
    },
    {
      "cell_type": "markdown",
      "metadata": {
        "id": "_inTgwKMwoXE"
      },
      "source": [
        "_**Please note**_\n",
        "\n",
        "Save this notebook file with your name following this format : \n",
        "\n",
        "### Your_Name_EXERCICE_2.ipynb\n",
        "\n",
        "No spaces, no accents, the only special characters allowed are - or _ \n",
        "\n",
        "Particular attention should be paid to the discussions of your results and to the proper and clean formatting of your notebook.\n",
        "\n",
        "Always label your plots and give the units. Quote your numerical results with the appropriate units.\n",
        "\n",
        "Make your code modular. Write and use functions whenever possible."
      ]
    },
    {
      "cell_type": "markdown",
      "metadata": {
        "id": "cK301MyhwoXF"
      },
      "source": [
        "# Modelisation of planet atmosphere "
      ]
    },
    {
      "cell_type": "markdown",
      "metadata": {
        "id": "gM0WO3nbwoXG"
      },
      "source": [
        "The aim of the following exercices is to understand the thermal structure of a planet, considering both the atmosphere an the interior.\n",
        "\n",
        "## Atmospheric structure of Pluto Atmosphere \n",
        "\n",
        "Let assume we have a planet, located at some distance from its star. The planet has a radius $R_p$ a mass $R_p$ and a surface temperature $T_s$. The planet has at atmosphere made of a gas with average molar mass (mass of 1 mole) $\\mu$\n",
        "To star we will consider PLuto (even if this is not really a planet, but a dwarf planet).\n",
        "\n",
        "\n",
        "We give below some useful numbers :\n",
        "\n",
        "$R=8.31$ (constant if ideal gases)\n",
        "\n",
        "\n",
        "$G=6.67 \\times 10^{-11} m^3 kg^{-1} s^{-2}$: Universal gravitational constant.\n",
        "\n",
        "The atmospheric gas is assumed to follow the ideal gas equation of state : \n",
        "\n",
        "$P=\\rho R T / \\mu$\n",
        "\n",
        "With P=pressure, $\\rho$=density (kg/m^3), T=temperature.  We introduce also $g$ the gravity acceleration at the base of the atmosphere (assumed to be constant): $g=GM_p/R_p^2$.\n",
        "\n",
        "For the moment we consider the planet is PLUTO (eventhough it is not really considered as a planet, but as a 'dwarf planet'), so  we will use :\n",
        "PLUTO DATA\n",
        "$Mp=1.3e22 kg$, \n",
        "\n",
        "$Rp=1185 km$ \n",
        "\n",
        "and\n",
        "\n",
        "$T_s=50 K$ (brrr... really cold !)\n",
        "\n",
        "Surface pressure \n",
        "\n",
        "$P_s= 10 micro bar$\n",
        "\n",
        "Atmospheric composition :N2\n",
        "\n",
        "$\\mu=14 g/mol$\n",
        "\n",
        "\n",
        "For convenience, in the following, we call Z the altitude above the planet's surface and R the distance to planet's center,  so Z=R-Rp.\n"
      ]
    },
    {
      "cell_type": "markdown",
      "metadata": {
        "id": "LJ7Fm9RwwoXH"
      },
      "source": [
        "1) We want to compute the structure of the atmosphere, that is P(Z) (pressure as a function of Z). We will assume that the atmosphere is isothermal, so that T(Z)=cst=$T_S$.\n",
        "\n",
        "Hydrostatic equilibrium tells us that :\n",
        "\n",
        "$\\frac{\\partial P}{\\partial Z}=-g\\rho$"
      ]
    },
    {
      "cell_type": "markdown",
      "metadata": {
        "id": "9wJn8iSUwoXI"
      },
      "source": [
        "### Q1 :\n",
        "What is the nature of the hydrostatic equilibrium equation ? Is it an ODE ? A PDE ? Why ?\n",
        "\n",
        "Answer= ODE since $\\frac{\\partial P}{\\partial Z}=-g(z)\\rho(z)$ which is a function of one variable.\n",
        "\n",
        "\n",
        "### Q2 :\n",
        "using dimensional analysis with g, $\\mu$, T, R build a quantity (we will call H) that has the dimension of a length. What is the meaning of H in your opinion ?\n",
        "\n",
        "$H= Rg/$\n",
        "\n",
        "### Q3\n",
        "what is g for Pluto ?\n",
        "\n",
        "Gives h for pluto and compare to the planet size. Is it correct to assume g constant ?\n",
        "\n",
        "\n"
      ]
    },
    {
      "cell_type": "markdown",
      "metadata": {
        "id": "KxRG0Q1OwoXJ"
      },
      "source": [
        "We now want to build a code that computes the P(Z) profile, assuming T=cst=$T_s$. We call $P_s$ the pressure at the surface of the planet (Z=0). $P_s= 1$ bar\n",
        "\n",
        "\n",
        "Let call dZ the step in Z and $Z_i$=dZ*i. \n",
        "\n",
        "Let call \n",
        "\n",
        "$P_i=P(Z_i )$ , the pressure at altitude $Z_i$\n",
        "\n",
        "and \n",
        "\n",
        "$\\rho_i=P_i \\mu/(R T_s)$, the density at altitude $Z_i$\n",
        "\n"
      ]
    },
    {
      "cell_type": "markdown",
      "metadata": {
        "id": "8hIxxeHqwoXK"
      },
      "source": [
        "Answer :"
      ]
    },
    {
      "cell_type": "markdown",
      "metadata": {
        "id": "l4nt5impwoXL"
      },
      "source": [
        "### Q4 (really easy)\n",
        "Write a little piece of code that define all the constants of the problem, including g and H"
      ]
    },
    {
      "cell_type": "code",
      "metadata": {
        "id": "sgcHJJrfwoXL"
      },
      "source": [
        "R=8.31 \n",
        "G=6.67e-11\n",
        "Mp=1.3e22\n",
        "Rp=1185e3\n",
        "Ts=50\n",
        "Ps=1\n",
        "mu=14\n",
        "g=9.81"
      ],
      "execution_count": 12,
      "outputs": []
    },
    {
      "cell_type": "markdown",
      "metadata": {
        "id": "7Vb_J3yowoXM"
      },
      "source": [
        "### Q5\n",
        "\n",
        "Write a function, called \"deriv\" that returns dP/dZ and takes in input P and the temperature of the atmosphere (a constant parameter of our problem but we will change later)."
      ]
    },
    {
      "cell_type": "code",
      "metadata": {
        "id": "BsWyKRdNwoXM"
      },
      "source": [
        "def deriv(P,T):\n",
        "    rho = P*mu/(R*T)\n",
        "    dpdz = -g*rho\n",
        "    return dpdz"
      ],
      "execution_count": 13,
      "outputs": []
    },
    {
      "cell_type": "markdown",
      "metadata": {
        "id": "OaAs8qVYwoXO"
      },
      "source": [
        "### Q6:\n",
        "Choose an explicit numerical integration scheme of order 2 of your choice. How will you compute $P_{i+1}$ as a function of $P_i$ ?\n",
        "\n",
        "YOUR ANSWER :\n",
        "    "
      ]
    },
    {
      "cell_type": "markdown",
      "metadata": {
        "id": "paNJ6EqOKYjf"
      },
      "source": [
        "2nd order explicit Euler"
      ]
    },
    {
      "cell_type": "markdown",
      "metadata": {
        "id": "7yhDBoiowoXO"
      },
      "source": [
        "### Q7\n",
        "Write a code below that computes P(Z) between Z=0 and Z=Zmax(=2H) and call deriv(P). Choose dZ=H/100."
      ]
    },
    {
      "cell_type": "code",
      "metadata": {
        "id": "XCzfGQ8swoXP"
      },
      "source": [
        "H = 50\n",
        "dz = H/100\n",
        "z = np.arange(0, 2*H, dz)\n",
        "P = np.zeros(len(z))\n",
        "P[0] = Ps\n",
        "for i in range(len(z)-1):\n",
        "    K = P[i] + dz/2*deriv(P[i],Ts)\n",
        "    P[i+1] = P[i] + deriv(K,Ts)"
      ],
      "execution_count": 14,
      "outputs": []
    },
    {
      "cell_type": "markdown",
      "metadata": {
        "id": "Uga18j1gwoXP"
      },
      "source": [
        "### Q7.bis\n",
        "Display P(Z) between Z=0 and Z=2H.\n",
        "\n",
        "What is the Pressure at Z=2H ?\n"
      ]
    },
    {
      "cell_type": "code",
      "metadata": {
        "id": "7VbnyEOEwoXP",
        "colab": {
          "base_uri": "https://localhost:8080/",
          "height": 282
        },
        "outputId": "aa378b82-870f-4303-e11c-fcc1d5c19c98"
      },
      "source": [
        "plt.plot(z, P)"
      ],
      "execution_count": 15,
      "outputs": [
        {
          "output_type": "execute_result",
          "data": {
            "text/plain": [
              "[<matplotlib.lines.Line2D at 0x7f1a8c79d1d0>]"
            ]
          },
          "metadata": {},
          "execution_count": 15
        },
        {
          "output_type": "display_data",
          "data": {
            "image/png": "[encoded data removed]",
            "text/plain": [
              "<Figure size 432x288 with 1 Axes>"
            ]
          },
          "metadata": {
            "needs_background": "light"
          }
        }
      ]
    },
    {
      "cell_type": "markdown",
      "metadata": {
        "id": "oGDDzMCQwoXQ"
      },
      "source": [
        "### Q8\n",
        "What is the pressure at 2=2H ?\n",
        "P="
      ]
    },
    {
      "cell_type": "code",
      "metadata": {
        "id": "7zci-5VLwoXQ",
        "colab": {
          "base_uri": "https://localhost:8080/"
        },
        "outputId": "31cb8c1d-34df-44cb-9aec-11ca6c61eb96"
      },
      "source": [
        "P[-1]"
      ],
      "execution_count": 16,
      "outputs": [
        {
          "output_type": "execute_result",
          "data": {
            "text/plain": [
              "5.958814403040789e-32"
            ]
          },
          "metadata": {},
          "execution_count": 16
        }
      ]
    },
    {
      "cell_type": "markdown",
      "metadata": {
        "id": "mSRPOG0IwoXR"
      },
      "source": [
        "Now we consider that Pluto is much \"closer\" to the Sun, and that the surface Temperature is T and is now a free parameter.\n",
        "\n",
        "### Q8.bis\n",
        "\n",
        "What would be the pressure at Z=2H for T=300K \n",
        "\n"
      ]
    },
    {
      "cell_type": "code",
      "metadata": {
        "colab": {
          "base_uri": "https://localhost:8080/"
        },
        "id": "eTShq-OkNDT3",
        "outputId": "a8852205-f158-4f15-e43b-6c1c181f9374"
      },
      "source": [
        "H = 50\n",
        "dz = H/100\n",
        "Ts = 300\n",
        "z = np.arange(0, 2*H, dz)\n",
        "P = np.zeros(len(z))\n",
        "P[0] = Ps\n",
        "for i in range(len(z)-1):\n",
        "    K = P[i] + dz/2*deriv(P[i],Ts)\n",
        "    P[i+1] = P[i] + deriv(K,Ts)\n",
        "P[-1]   "
      ],
      "execution_count": 17,
      "outputs": [
        {
          "output_type": "execute_result",
          "data": {
            "text/plain": [
              "1.4860860984261549e-05"
            ]
          },
          "metadata": {},
          "execution_count": 17
        }
      ]
    },
    {
      "cell_type": "markdown",
      "metadata": {
        "id": "K1ut22wPwoXR"
      },
      "source": [
        "### Q9\n",
        "We want to compute the total mass of the atmosphere : Since the pressure at the surface the weight of the atmosphere\n",
        "    divided by the planet surface what is $M_a$, the mass of the atmosphere (in Kg) as a function of $P_s$, T, g, $R_p$ ? give also the numerical value\n",
        "    \n",
        "    "
      ]
    },
    {
      "cell_type": "markdown",
      "metadata": {
        "id": "hC9dMUkgNZhZ"
      },
      "source": [
        "$P = \\frac{-3GM_p^2}{4\\pi R_p^5}$\n",
        "\n",
        "$M_a = P \\times 4\\pi Rp^2$"
      ]
    },
    {
      "cell_type": "code",
      "metadata": {
        "id": "7sBpbeTAwoXR"
      },
      "source": [
        "Ma=3*G*Mp**2/4*np.pi*Rp**5 * 4*np.pi*Rp**2"
      ],
      "execution_count": 18,
      "outputs": []
    },
    {
      "cell_type": "code",
      "metadata": {
        "colab": {
          "base_uri": "https://localhost:8080/"
        },
        "id": "D-OH7BrPOfJ3",
        "outputId": "7f50179a-bd88-4d05-dee7-023a5541da39"
      },
      "source": [
        "Ma"
      ],
      "execution_count": 19,
      "outputs": [
        {
          "output_type": "execute_result",
          "data": {
            "text/plain": [
              "1.095120707504508e+78"
            ]
          },
          "metadata": {},
          "execution_count": 19
        }
      ]
    },
    {
      "cell_type": "markdown",
      "metadata": {
        "id": "MD6AQFqLwoXS"
      },
      "source": [
        "## More realistic profile\n",
        "\n",
        "Now we will consider that g changes with altitude. so that $g(Z)=GMp/(Rp+Z)^2$. Modify your function \"deriv\" (define above) so that g is now properly calculated in the code. Note that deriv now will take in input P, Z, T. We will call this function \"deriv2\"\n"
      ]
    },
    {
      "cell_type": "code",
      "metadata": {
        "id": "tvM6GZbbwoXS"
      },
      "source": [
        "def deriv2(P,T,Z):\n",
        "    rho = P*mu/(R*T)\n",
        "    gz = (G*Mp)/(Rp + Z)**2\n",
        "    dpdz = -gz*rho\n",
        "    return dpdz"
      ],
      "execution_count": 20,
      "outputs": []
    },
    {
      "cell_type": "markdown",
      "metadata": {
        "id": "c2XeQxB9woXT"
      },
      "source": [
        "### Q10 \n",
        "Write a code that compute P(Z) with deriv2.\n",
        "\n"
      ]
    },
    {
      "cell_type": "code",
      "metadata": {
        "id": "TSKuhxvnwoXT",
        "colab": {
          "base_uri": "https://localhost:8080/",
          "height": 282
        },
        "outputId": "8f339ed0-8b3a-4c76-a2d3-04b401f2bd02"
      },
      "source": [
        "H = 50\n",
        "dz = H/100\n",
        "Ts = 50\n",
        "z = np.arange(0, 2*H, dz)\n",
        "P = np.zeros(len(z))\n",
        "P[0] = Ps\n",
        "for i in range(len(z)-1):\n",
        "    K = P[i] + dz/2*deriv2(P[i],Ts,z[i])\n",
        "    P[i+1] = P[i] + deriv2(K,Ts,dz/2+z[i])\n",
        "plt.plot(z, P)    "
      ],
      "execution_count": 27,
      "outputs": [
        {
          "output_type": "execute_result",
          "data": {
            "text/plain": [
              "[<matplotlib.lines.Line2D at 0x7f1a8c4b0ed0>]"
            ]
          },
          "metadata": {},
          "execution_count": 27
        },
        {
          "output_type": "display_data",
          "data": {
            "image/png": "[encoded data removed]",
            "text/plain": [
              "<Figure size 432x288 with 1 Axes>"
            ]
          },
          "metadata": {
            "needs_background": "light"
          }
        }
      ]
    },
    {
      "cell_type": "markdown",
      "metadata": {
        "id": "KH47Wq5BwoXU"
      },
      "source": [
        "### Q11\n",
        "Compute P(Z) with deriv and deriv2. Display the resuls on the same graph . Is there much difference ? We should expect not much. Why ?"
      ]
    },
    {
      "cell_type": "code",
      "metadata": {
        "id": "4r4a0kUGwoXU",
        "colab": {
          "base_uri": "https://localhost:8080/",
          "height": 282
        },
        "outputId": "f52243e5-a651-4f80-a024-d426b3cc59b3"
      },
      "source": [
        "H = 50\n",
        "dz = H/100\n",
        "Ts = 50\n",
        "z = np.arange(0, 2*H, dz)\n",
        "P1 = np.zeros(len(z))\n",
        "P1[0] = Ps\n",
        "\n",
        "P2 = np.zeros(len(z))\n",
        "P2[0] = Ps\n",
        "\n",
        "for i in range(len(z)-1):\n",
        "    K1 = P1[i] + dz/2*deriv(P1[i],Ts)\n",
        "    P1[i+1] = P1[i] + deriv(K1,Ts)\n",
        "    K2 = P2[i] + dz/2*deriv2(P2[i],Ts,z[i])\n",
        "    P2[i+1] = P2[i] + deriv2(K2,Ts,dz/2+z[i])\n",
        "plt.plot(z, P1)\n",
        "plt.plot(z, P2)"
      ],
      "execution_count": 28,
      "outputs": [
        {
          "output_type": "execute_result",
          "data": {
            "text/plain": [
              "[<matplotlib.lines.Line2D at 0x7f1a8c420d50>]"
            ]
          },
          "metadata": {},
          "execution_count": 28
        },
        {
          "output_type": "display_data",
          "data": {
            "image/png": "[encoded data removed]",
            "text/plain": [
              "<Figure size 432x288 with 1 Axes>"
            ]
          },
          "metadata": {
            "needs_background": "light"
          }
        }
      ]
    },
    {
      "cell_type": "markdown",
      "metadata": {
        "id": "LrDDioG1woXV"
      },
      "source": [
        "### Q12 Atmospheric Escape\n",
        "\n",
        "Now we imagine that the body (here Pluto) is at distance A from the sun, so that the planet's surface temperature is \n",
        "\n",
        "\n",
        "$T_s=300K*(1AU/A)^{-1/2}$, where $AU=150 \\times 10^6 km$ (the \"astronomical unit\").\n",
        "\n",
        "\n",
        "We want to compute the pressure not at 2H, but at a distance $\\textbf{R_h}$ called the Hill Radius. $R_h$ is the \"radius of gravitational reach of the planet\". Any object closer than distance $R_h$ from the planet is \"trapped\" in orbit around the planet. Any object beyond distance  $R_h$ from  the planet is lost from the planet (and is put in orbit around the Sun).\n",
        "\n",
        "$R_h=A\\times \\left( \\frac{M_p}{3M_s} \\right)^{1/3.}$.\n",
        "\n",
        "Where $Ms$= Sun's mass=2e30 Kg\n",
        "\n",
        "### Q13\n",
        "PLot Rh (in units of planet Radius) and T(in K) as a function of the distance to the Star for 0.01<A<10 AU in log plot. The distance to the star will be plotted in astronomical units.\n"
      ]
    },
    {
      "cell_type": "code",
      "metadata": {
        "id": "8bZHg40fwoXV",
        "colab": {
          "base_uri": "https://localhost:8080/",
          "height": 286
        },
        "outputId": "d166cfa0-9ec8-433c-ad93-3804c778f141"
      },
      "source": [
        "Ms = 2e30\n",
        "A = np.linspace(0.1,10,10)\n",
        "Rh = A * (Mp/3*Ms)**(1/3)\n",
        "plt.loglog(A, Rh)"
      ],
      "execution_count": 34,
      "outputs": [
        {
          "output_type": "execute_result",
          "data": {
            "text/plain": [
              "[<matplotlib.lines.Line2D at 0x7f1a87a01850>]"
            ]
          },
          "metadata": {},
          "execution_count": 34
        },
        {
          "output_type": "display_data",
          "data": {
            "image/png": "[encoded data removed]",
            "text/plain": [
              "<Figure size 432x288 with 1 Axes>"
            ]
          },
          "metadata": {
            "needs_background": "light"
          }
        }
      ]
    },
    {
      "cell_type": "markdown",
      "metadata": {
        "id": "YMmHeAXcwoXW"
      },
      "source": [
        "### Q14\n",
        "\n",
        "\n",
        "Based on your precedent code (using deriv 2), define a function P_at_2H(T)  that returns The pressure at Z=R_h.\n"
      ]
    },
    {
      "cell_type": "code",
      "metadata": {
        "id": "Uio4y2DGwoXW"
      },
      "source": [
        "def deriv2(P,T,Z):\n",
        "    rho = P*mu/(R*T)\n",
        "    gz = (G*Mp)/(Rp + Z)**2\n",
        "    dpdz = -gz*rho\n",
        "    return dpdz\n",
        "\n",
        "P_at_2H(T) = lambda h: A * (Mp/3*Ms)**(1/3)\n",
        "\n",
        "H = 50\n",
        "dz = H/100\n",
        "Ts = 50\n",
        "z = np.arange(0, 2*H, dz)\n",
        "P = np.zeros(len(z))\n",
        "P[0] = Ps\n",
        "for i in range(len(z)-1):\n",
        "    K = P[i] + dz/2*deriv2(P[i],Ts,z[i])\n",
        "    P[i+1] = P[i] + deriv2(K,Ts,dz/2+z[i])\n",
        "plt.plot(z, P)    "
      ],
      "execution_count": null,
      "outputs": []
    },
    {
      "cell_type": "markdown",
      "metadata": {
        "id": "d7XgDO-JwoXW"
      },
      "source": [
        "### Q15\n",
        "What is the pressure at Z=Rh for a a Pluto-Like object at 0.1, 1., 2. AU ?\n"
      ]
    },
    {
      "cell_type": "code",
      "metadata": {
        "id": "CK1C-cHiwoXX"
      },
      "source": [
        "\n"
      ],
      "execution_count": null,
      "outputs": []
    },
    {
      "cell_type": "markdown",
      "metadata": {
        "id": "Z6D6hYQowoXX"
      },
      "source": [
        "### Q16 escape ?\n",
        "We can consider as a simplified criterion that when P(R_h)> 0.01 Pascal, the atmosphere will escape from the planet through Jeans evaporation. The planet is then too hot, it looses its atmosphere.\n",
        "\n",
        "At what distance from the Sun will that happen ?\n",
        "You can find this distance either\n",
        "(1) GRAPHICALLY or\n",
        "(2) using a code you design that will find the distance A, from the sun, for which we have exactly the equation P(Rh)=0.01 Pa. You have to find the root of this equation.\n",
        "\n",
        "Methods 2 will give you bonus points.\n",
        "\n",
        "\n",
        "\n"
      ]
    },
    {
      "cell_type": "code",
      "metadata": {
        "id": "NoPSmPKtwoXX"
      },
      "source": [
        ""
      ],
      "execution_count": null,
      "outputs": []
    },
    {
      "cell_type": "code",
      "metadata": {
        "id": "RmYyX0QnwoXY"
      },
      "source": [
        ""
      ],
      "execution_count": null,
      "outputs": []
    },
    {
      "cell_type": "code",
      "metadata": {
        "id": "Mldx2ThQwoXY"
      },
      "source": [
        ""
      ],
      "execution_count": null,
      "outputs": []
    },
    {
      "cell_type": "code",
      "metadata": {
        "id": "PSeV-4RgwoXY"
      },
      "source": [
        ""
      ],
      "execution_count": null,
      "outputs": []
    },
    {
      "cell_type": "code",
      "metadata": {
        "id": "ayPkztkwwoXY"
      },
      "source": [
        ""
      ],
      "execution_count": null,
      "outputs": []
    },
    {
      "cell_type": "code",
      "metadata": {
        "id": "CPL4pCapwoXZ"
      },
      "source": [
        ""
      ],
      "execution_count": null,
      "outputs": []
    },
    {
      "cell_type": "code",
      "metadata": {
        "id": "bu-slmhQwoXZ"
      },
      "source": [
        ""
      ],
      "execution_count": null,
      "outputs": []
    },
    {
      "cell_type": "code",
      "metadata": {
        "id": "saOSqJwGwoXZ"
      },
      "source": [
        ""
      ],
      "execution_count": null,
      "outputs": []
    },
    {
      "cell_type": "code",
      "metadata": {
        "id": "jw27lh0_woXZ"
      },
      "source": [
        ""
      ],
      "execution_count": null,
      "outputs": []
    },
    {
      "cell_type": "code",
      "metadata": {
        "id": "Un2jOLi4woXa"
      },
      "source": [
        ""
      ],
      "execution_count": null,
      "outputs": []
    },
    {
      "cell_type": "code",
      "metadata": {
        "id": "-wPlIOmSwoXa"
      },
      "source": [
        ""
      ],
      "execution_count": null,
      "outputs": []
    },
    {
      "cell_type": "code",
      "metadata": {
        "id": "BQUPUA5iwoXa"
      },
      "source": [
        ""
      ],
      "execution_count": null,
      "outputs": []
    },
    {
      "cell_type": "code",
      "metadata": {
        "id": "gfAG7HIawoXb"
      },
      "source": [
        ""
      ],
      "execution_count": null,
      "outputs": []
    },
    {
      "cell_type": "code",
      "metadata": {
        "id": "jsHVWAbVwoXb"
      },
      "source": [
        ""
      ],
      "execution_count": null,
      "outputs": []
    },
    {
      "cell_type": "code",
      "metadata": {
        "id": "MPgrYc4vwoXb"
      },
      "source": [
        ""
      ],
      "execution_count": null,
      "outputs": []
    }
  ]
}